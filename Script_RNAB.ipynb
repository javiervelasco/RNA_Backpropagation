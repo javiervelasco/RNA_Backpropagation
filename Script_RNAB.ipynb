{
 "cells": [
  {
   "cell_type": "code",
   "execution_count": 106,
   "metadata": {
    "collapsed": true
   },
   "outputs": [],
   "source": [
    "#Creditos a Alberto Herrera quien publico un tutorial el 29 ene. 2017 https://www.youtube.com/watch?v=VjN0cwVsYzE\n",
    "import math\n",
    "import numpy as np\n",
    "from csv import reader\n",
    "from scipy import optimize\n",
    "from six.moves import input"
   ]
  },
  {
   "cell_type": "code",
   "execution_count": 107,
   "metadata": {
    "collapsed": true
   },
   "outputs": [],
   "source": [
    "# Load a CSV file\n",
    "def load_csv(filename):\n",
    "    dataset = list()\n",
    "    with open(filename, 'r') as file:\n",
    "        csv_reader = reader(file)\n",
    "        for row in csv_reader:\n",
    "            if not row:\n",
    "                continue\n",
    "            dataset.append(row)\n",
    "    return dataset\n",
    " \n",
    "# Convert string column to float\n",
    "def str_column_to_float(dataset, column):\n",
    "    for row in dataset:\n",
    "        row[column] = float(row[column].strip())\n",
    " \n",
    "# Convert string column to integer\n",
    "def str_column_to_int(dataset, column):\n",
    "    for row in dataset:\n",
    "        row[column] = int(row[column]) "
   ]
  },
  {
   "cell_type": "code",
   "execution_count": 108,
   "metadata": {
    "collapsed": true
   },
   "outputs": [],
   "source": [
    "class RedNeuronal(object):\n",
    "    def __init__(self):\n",
    "        #parametros\n",
    "        #capa de entrada\n",
    "        self.numeroNeuronasEntrada = 13\n",
    "        #capa escondida\n",
    "        self.numeroNeuronasEscondidas1 = 3\n",
    "        self.numeroNeuronasEscondidas2 = 3\n",
    "        #capa de salida\n",
    "        self.numeroNeuronasSalida = 1\n",
    "\n",
    "        #matriz con peso aleatorio\n",
    "        self.W1 = np.random.rand(self.numeroNeuronasEntrada, self.numeroNeuronasEscondidas1)\n",
    "        self.W2 = np.random.rand(self.numeroNeuronasEscondidas1, self.numeroNeuronasEscondidas2)\n",
    "        self.W3 = np.random.rand(self.numeroNeuronasEscondidas2, self.numeroNeuronasSalida)\n",
    "\n",
    "    def avanzar(self,x): #propagar\n",
    "        #primero calculamos Z2\n",
    "        self.Z2 = np.dot(x, self.W1)\n",
    "        self.A2 = self.sigmoide(self.Z2)\n",
    "        self.Z3 = np.dot(self.A2,self.W2)\n",
    "        self.A3 = self.sigmoide(self.Z3)\n",
    "        self.Z4 = np.dot(self.A3,self.W3)\n",
    "        yprima = self.sigmoide(self.Z4)\n",
    "        return yprima\n",
    "\n",
    "    def sigmoide(self, z):\n",
    "        return 1/(1 + np.exp(-z))\n",
    "\n",
    "    def sigmoideprima(self, z):\n",
    "        return np.exp(-z)/((1+np.exp(-z))**2)\n",
    "\n",
    "    def funcionDeCosto(self, x, y):\n",
    "        self.yprima = self.avanzar(x)\n",
    "        J = 0.5*sum((y - self.yprima)**2)\n",
    "        return J\n",
    "\n",
    "    def funcionDeCostoPrima(self, x, y):#backpropagation\n",
    "        self.yprima = self.avanzar(x)\n",
    "        #error de los datos evaluados\n",
    "        E = y - self.yprima\n",
    "        delta3 = np.multiply(-(E) , self.sigmoideprima(self.Z4))\n",
    "        djdw3 = np.dot(self.A3.T, delta3)\n",
    "        delta2 = np.dot(delta3,self.W3.T) * self.sigmoideprima(self.Z3)\n",
    "        djdw2 = np.dot(self.A2.T, delta2)\n",
    "        delta1 = np.dot(delta2,self.W2.T) * self.sigmoideprima(self.Z2)\n",
    "        djdw1 = np.dot(x.T, delta1)\n",
    "        return djdw1, djdw2, djdw3\n",
    "\n",
    "    def obtenerParametros(self):\n",
    "        W1_vector = self.W1.ravel()\n",
    "        W2_vector = self.W2.ravel()\n",
    "        W3_vector = self.W3.ravel()\n",
    "        parametros = np.concatenate((W1_vector,W2_vector,W3_vector))\n",
    "        return parametros\n",
    "\n",
    "    def setearParametros(self, parametros):#pasa de vector a matriz\n",
    "        W1_start = 0\n",
    "        W1_end = self.numeroNeuronasEntrada*self.numeroNeuronasEscondidas1\n",
    "        W2_start = W1_end\n",
    "        W2_end = W1_end + self.numeroNeuronasEscondidas1*self.numeroNeuronasEscondidas2\n",
    "        W3_start = W2_end\n",
    "        W3_end = W2_end + self.numeroNeuronasEscondidas2*self.numeroNeuronasSalida\n",
    "\n",
    "        self.W1 = np.reshape(parametros[W1_start:W1_end],(self.numeroNeuronasEntrada,self.numeroNeuronasEscondidas1))\n",
    "        self.W2 = np.reshape(parametros[W2_start:W2_end],(self.numeroNeuronasEscondidas1,self.numeroNeuronasEscondidas2))\n",
    "        self.W3 = np.reshape(parametros[W3_start:W3_end],(self.numeroNeuronasEscondidas2,self.numeroNeuronasSalida))\n",
    "\n",
    "    def calcularGradientes(self, x, y):\n",
    "        djdw1, djdw2, djdw3 = self.funcionDeCostoPrima(x,y)\n",
    "        djdw1_vector = djdw1.ravel()\n",
    "        djdw2_vector = djdw2.ravel()\n",
    "        djdw3_vector = djdw3.ravel()\n",
    "\n",
    "        derivadas_vector = np.concatenate((djdw1_vector,djdw2_vector,djdw3_vector))\n",
    "        return derivadas_vector\n",
    "\n",
    "    def calcularGradientesNumericos(self, N, x, y):\n",
    "        parametrosIniciales = N.obtenerParametros()\n",
    "        resultados_gradiente_numerico = np.zeros(parametrosIniciales.shape)\n",
    "        perturbaciones_epsilon = np. zeros(parametrosIniciales.shape)\n",
    "        e = 1e-4\n",
    "\n",
    "        for p in range(len(parametrosIniciales)):\n",
    "            perturbaciones_epsilon[p] = e\n",
    "            N.setearParametros(parametrosIniciales + perturbaciones_epsilon)\n",
    "            perdida2 = N.funcionDeCosto(x,y)\n",
    "            N.setearParametros(parametrosIniciales - perturbaciones_epsilon)\n",
    "            perdida1 = N.funcionDeCosto(x,y)\n",
    "            a = (perdida2 - perdida1)/(2*e)\n",
    "            resultados_gradiente_numerico[p] = a\n",
    "            perturbaciones_epsilon[p] = 0\n",
    "            N.setearParametros(parametrosIniciales)\n",
    "        return resultados_gradiente_numerico\n"
   ]
  },
  {
   "cell_type": "code",
   "execution_count": 110,
   "metadata": {
    "collapsed": true
   },
   "outputs": [],
   "source": [
    "class Entrenador(object):\n",
    "    def __init__(self,N):\n",
    "        self.N = N\n",
    "\n",
    "    def costFunctionWrapper(self, params, X, y):\n",
    "        self.N.setearParametros(params)\n",
    "        cost = self.N.funcionDeCosto(X,y)\n",
    "        grad = self.N.calcularGradientes(X,y)\n",
    "        return cost, grad\n",
    "\n",
    "    def callbackF(self,params):\n",
    "        self.N.setearParametros(params)\n",
    "        self.J.append(self.N.funcionDeCosto(self.X, self.y))\n",
    "    \n",
    "    def train(self, x, y):\n",
    "        self.X = x\n",
    "        self.y = y\n",
    "        params = self.N.obtenerParametros()\n",
    "        self.J = []\n",
    "        _res = optimize.minimize(self.costFunctionWrapper, params, jac = True, method = 'BFGS', args= (x,y), options = {'disp' : True}, callback = self.callbackF)\n",
    "        self.N.setearParametros(_res.x)\n",
    "        self.optimizationResults = _res\n",
    "\n"
   ]
  },
  {
   "cell_type": "code",
   "execution_count": 113,
   "metadata": {},
   "outputs": [
    {
     "name": "stdout",
     "output_type": "stream",
     "text": [
      "Numero de Registros de Entrenamiento:  6720\n",
      "La prediccion de la red neuronal es\n",
      "[[ 0.81944659]\n",
      " [ 0.8188909 ]\n",
      " [ 0.81867144]\n",
      " ..., \n",
      " [ 0.82452683]\n",
      " [ 0.82254909]\n",
      " [ 0.82070097]]\n",
      "Los valores de la funcion de costo son\n",
      "[ 1456.39681601]\n",
      "Optimization terminated successfully.\n",
      "         Current function value: 0.048150\n",
      "         Iterations: 1303\n",
      "         Function evaluations: 1446\n",
      "         Gradient evaluations: 1446\n",
      "[[ 0.11382089]\n",
      " [ 0.11084112]\n",
      " [ 0.10879559]\n",
      " ..., \n",
      " [ 0.15962541]\n",
      " [ 0.14201852]\n",
      " [ 0.12702628]]\n"
     ]
    }
   ],
   "source": [
    "filename = 'Train.csv'\n",
    "dataset = load_csv(filename)\n",
    "# convert string attributes to integers\n",
    "for i in range(len(dataset[0])-2):\n",
    "    str_column_to_float(dataset, i+2)\n",
    "for a in range(len(dataset[0])-2):\n",
    "    str_column_to_int(dataset, a+2)\n",
    "#prueba\n",
    "redNeuronal = RedNeuronal()\n",
    "redNeuronal.W1\n",
    "redNeuronal.W2\n",
    "redNeuronal.W3\n",
    "#prueba propagacion\n",
    "datox = []\n",
    "datoy = []\n",
    "numregistros=len(dataset)\n",
    "print (\"Numero de Registros de Entrenamiento: \", numregistros)\n",
    "semanas = int(numregistros/168)\n",
    "indi = 0\n",
    "#for fila in range(semanas):\n",
    "#    datamodel=dataset[indi] \n",
    "for fila in range(numregistros):\n",
    "    datamodel=dataset[fila] \n",
    "    datox.append(datamodel[2:15])\n",
    "    datoy.append(datamodel[15:16])\n",
    "    indi=(fila+1)*168 #recorre solo el lunes a la hora 1\n",
    "X = np.array((datox), dtype=float)\n",
    "resultados = np.array((datoy),dtype=float)    \n",
    "X = X/10000\n",
    "resultados = resultados/10000\n",
    "print (\"La prediccion de la red neuronal es\")\n",
    "print (redNeuronal.avanzar(X))\n",
    "\n",
    "#funcion de costo\n",
    "print (\"Los valores de la funcion de costo son\")\n",
    "print (redNeuronal.funcionDeCosto(X, resultados))\n",
    "\n",
    "#backpropagation\n",
    "a, b, c = redNeuronal.funcionDeCostoPrima(X,resultados)\n",
    "#test gradiente\n",
    "redNeuronal.obtenerParametros()\n",
    "redNeuronal.calcularGradientes(X, resultados)\n",
    "redNeuronal.calcularGradientesNumericos(redNeuronal,X,resultados)\n",
    "\n",
    "#training\n",
    "entrenador = Entrenador(redNeuronal)\n",
    "entrenador.train(X, resultados)\n",
    "print (redNeuronal.avanzar(X))\n"
   ]
  },
  {
   "cell_type": "code",
   "execution_count": 117,
   "metadata": {},
   "outputs": [
    {
     "name": "stdout",
     "output_type": "stream",
     "text": [
      "[ 1154.42401501]\n"
     ]
    }
   ],
   "source": [
    "#TEST1 entrada 1157,1157,1157,1178,1177,1178,1165,1168,1165,1118,1103,1118,1180 salida 1149 -> Lunes hora 1\n",
    "\n",
    "T1 = np.array(([1157,1157,1157,1178,1177,1178,1165,1168,1165,1118,1103,1118,1180]), dtype=float)\n",
    "T1 = T1/10000\n",
    "print (redNeuronal.avanzar(T1)*10000)\n",
    "\n"
   ]
  },
  {
   "cell_type": "code",
   "execution_count": 118,
   "metadata": {},
   "outputs": [
    {
     "name": "stdout",
     "output_type": "stream",
     "text": [
      "[ 1972.93803227]\n"
     ]
    }
   ],
   "source": [
    "#TEST2 entrada 2006,2006,2006,2044,2020,2044,2003,2001,2003,1922,1915,1922,1959 salida 1977 -> Lunes hora 13 \n",
    "\n",
    "T2 = np.array(([2006,2006,2006,2044,2020,2044,2003,2001,2003,1922,1915,1922,1959]), dtype=float)\n",
    "T2 = T2/10000\n",
    "print (redNeuronal.avanzar(T2)*10000)\n"
   ]
  },
  {
   "cell_type": "code",
   "execution_count": null,
   "metadata": {
    "collapsed": true
   },
   "outputs": [],
   "source": []
  }
 ],
 "metadata": {
  "kernelspec": {
   "display_name": "Python 3",
   "language": "python",
   "name": "python3"
  },
  "language_info": {
   "codemirror_mode": {
    "name": "ipython",
    "version": 3
   },
   "file_extension": ".py",
   "mimetype": "text/x-python",
   "name": "python",
   "nbconvert_exporter": "python",
   "pygments_lexer": "ipython3",
   "version": "3.6.2"
  }
 },
 "nbformat": 4,
 "nbformat_minor": 2
}
